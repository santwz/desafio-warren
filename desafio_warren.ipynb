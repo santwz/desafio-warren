{
 "cells": [
  {
   "cell_type": "markdown",
   "id": "88888a56-279d-439a-96a9-98139df48589",
   "metadata": {},
   "source": [
    "<div align=\"center\">\n",
    "    <img src=\"logo/logo_warren_terracota.webp\" alt=\"Logo Warren Terracota\" width=\"400\"> </div>\n",
    "</div>\n",
    "\n",
    "**Solução por Wallace Santo.**"
   ]
  },
  {
   "cell_type": "code",
   "execution_count": null,
   "id": "973ebc98-fa6c-4e37-9597-db1d0753633a",
   "metadata": {},
   "outputs": [],
   "source": [
    "#Importando bibliotecas iniciais\n",
    "import yfinance as yf # Para obter os dados do Yahoo Finance\n",
    "import pandas as pd # Para utilizar os dataframes\n",
    "import matplotlib.pyplot as plt #Criar gráficos\n"
   ]
  },
  {
   "cell_type": "code",
   "execution_count": null,
   "id": "2bd66501-28b6-4e2a-bff7-53cd1494dad0",
   "metadata": {},
   "outputs": [],
   "source": [
    "# Datas no formato americano(compatível com o Yahoo Finance)\n",
    "data_inicio = \"2024-02-20\"\n",
    "data_final = \"2024-04-09\"\n",
    "\n",
    "# Definindo o código do ativo na bolsa\n",
    "codigo = \"LFTS11.SA\"\n",
    "\n",
    "# Baixando os dados históricos do ativo\n",
    "historico_lfts11 = yf.download(codigo, start=data_inicio, end=data_final)\n",
    "\n",
    "# Removendo 'Adj Close', por ser indexado em Selic, não há diferença real entre Close e Adj Close. \n",
    "# Removendo 'Volume', pois o algoritmo TWAP não utiliza essa métrica\n",
    "historico_lfts11 = historico_lfts11.drop(columns=['Adj Close', 'Volume'])\n",
    "\n",
    "# Criando uma coluna com a média de 'Open', 'High', 'low' e 'Close' de cada dia\n",
    "historico_lfts11['Mean'] = historico_lfts11.mean(axis=1)\n",
    "\n",
    "# Visualiazndo o histórico\n",
    "historico_lfts11\n"
   ]
  },
  {
   "cell_type": "code",
   "execution_count": null,
   "id": "9d7afa38-a503-4b47-b832-c8b17400f8cf",
   "metadata": {},
   "outputs": [],
   "source": [
    "# Calculando o TWAP\n",
    "twap = historico_lfts11['Mean'].mean()\n",
    "twap"
   ]
  },
  {
   "cell_type": "code",
   "execution_count": null,
   "id": "85db83ce-0f69-4bfe-8051-93846d9c8103",
   "metadata": {},
   "outputs": [],
   "source": [
    "# Abrindo a planilha do desafio para automação\n",
    "automacao = pd.read_excel('planilha_de_saldo_para_automao.xlsx')\n"
   ]
  },
  {
   "cell_type": "code",
   "execution_count": null,
   "id": "5edbe0d3-e481-48e4-a59b-fb709b48f8b6",
   "metadata": {},
   "outputs": [],
   "source": [
    "# Importando a biblioteca math para trabalhamos apenas com valores inteiros\n",
    "import math\n",
    "\n",
    "# Definindo o valor de compra ou venda para o TWAP encontrado anteriormente\n",
    "valor_lfts11 = twap\n",
    "\n",
    "# Função para calcular a operação de compra ou venda\n",
    "def operacao(saldo):\n",
    "    #Verificando se o saldo é negativo\n",
    "    if saldo < 0:\n",
    "        quantidade_venda = abs(saldo) / valor_lfts11\n",
    "        #Usando a função teto para garantir todos os casos\n",
    "        quantidade_venda = math.ceil(quantidade_venda)\n",
    "        return f\"Vender {quantidade_venda} cota(s)\"\n",
    "    else:\n",
    "        quantidade_compra = saldo / valor_lfts11\n",
    "        #Usando a função piso para garantir que não fique com saldo negativo\n",
    "        quantidade_compra = math.floor(quantidade_compra)\n",
    "        return f\"Comprar {quantidade_compra} cota(s)\"\n",
    "\n",
    "# Aplicando a função no dataframe\n",
    "automacao['Operação'] = automacao['Vl. Total'].apply(operacao)\n",
    "\n",
    "automacao\n"
   ]
  },
  {
   "cell_type": "code",
   "execution_count": null,
   "id": "b92d8dc3-0a79-4a66-b85d-51332ca87b53",
   "metadata": {},
   "outputs": [],
   "source": [
    "# Separando a nossa operação em Tipo(Compra ou Venda), Quantidade e Unidade\n",
    "automacao['Tipo'], automacao['Quantidade'], automacao['Unidade'] = zip(*automacao['Operação'].str.split().tolist())\n",
    "\n",
    "# Retirando as colunas Operação e Unidade para deixar o DataFrame mais limpo\n",
    "automacao = automacao.drop(columns=['Operação', 'Unidade'])\n",
    "\n",
    "automacao\n",
    "\n",
    "\n"
   ]
  },
  {
   "cell_type": "code",
   "execution_count": null,
   "id": "eb7c4fe5-3328-4df9-b635-abd34f84e9f6",
   "metadata": {},
   "outputs": [],
   "source": [
    "# Abrindo o modelo_mesa que é o exemplo para o desafio\n",
    "modelo_mesa = pd.read_excel('modelo_mesa_-_lfts11_-_exemplo_-_desafio_vba.xlsx')"
   ]
  },
  {
   "cell_type": "code",
   "execution_count": null,
   "id": "df45cb53-0253-4b63-a39b-d8df55c0eb3f",
   "metadata": {},
   "outputs": [],
   "source": [
    "# Visualizando o DataFrame\n",
    "modelo_mesa"
   ]
  },
  {
   "cell_type": "code",
   "execution_count": null,
   "id": "df853130-4623-442a-aec3-b25d872634d4",
   "metadata": {},
   "outputs": [],
   "source": [
    "# Adicionando cada linha do DataFrame 'automacao', que era o desafio\n",
    "for index, row in automacao.iterrows():\n",
    "    # Definir se é C ou V com base na coluna 'Tipo'\n",
    "    cv = 'C' if 'Comprar' in row['Tipo'] else 'V'\n",
    "\n",
    "    # Iterando a partir do indíce final da planilha modelo_mesa \n",
    "    numero = 481 + index\n",
    "\n",
    "    # Criando uma linha como um DataFrame para concatenar\n",
    "    nova_linha = pd.DataFrame({\n",
    "        'C\\V': [cv],\n",
    "        'Código': ['LFTS11'],\n",
    "        'Qtd': [row['Quantidade']],\n",
    "        'Qtd Aberta': [None],\n",
    "        'Preço': ['MERCADO'],\n",
    "        'Cliente': [row['Cod. Conta Local']],  \n",
    "        'Nome Cliente': [None],\n",
    "        'Agente de Custódia': [None],\n",
    "        'Conta de Custódia': [None],\n",
    "        'Código da Carteira': [None],\n",
    "        'N°': [numero]\n",
    "    })\n",
    "    \n",
    "    \n",
    "    # Concatenar a nova linha ao DataFrame da planilha modelo_mesa\n",
    "    modelo_mesa = pd.concat([modelo_mesa, nova_linha], ignore_index=True)"
   ]
  },
  {
   "cell_type": "code",
   "execution_count": null,
   "id": "d55b107a-c739-450c-9594-f6af0c8d9bd3",
   "metadata": {},
   "outputs": [],
   "source": [
    "#Visualizando o DataFrame\n",
    "modelo_mesa"
   ]
  },
  {
   "cell_type": "code",
   "execution_count": null,
   "id": "c1ab37ab-d991-4f4a-bf82-1e01a1dd6117",
   "metadata": {},
   "outputs": [],
   "source": [
    "# Verificando o Dtype \n",
    "modelo_mesa.info()"
   ]
  },
  {
   "cell_type": "code",
   "execution_count": null,
   "id": "54f8a278-7e89-4fcf-bab5-b62541a4c222",
   "metadata": {},
   "outputs": [],
   "source": [
    "# Modificando os tipos para facilitar o manuseio ao exportar para o Excel\n",
    "modelo_mesa['Qtd'] = pd.to_numeric(modelo_mesa['Qtd'], errors='coerce').astype(int)\n",
    "modelo_mesa['Preço'] = pd.to_numeric(modelo_mesa['Preço'], errors='coerce').astype(float)\n",
    "\n"
   ]
  },
  {
   "cell_type": "code",
   "execution_count": null,
   "id": "a03e739b-5882-466c-8c11-7293a06795a3",
   "metadata": {},
   "outputs": [],
   "source": [
    "# Verificando quanto foi Comprado ou Vendido, dado o TWAP\n",
    "\n",
    "# Valor por unidade\n",
    "valor_por_unidade = twap\n",
    "\n",
    "# Filtrar apenas as linhas em que 'C\\V' é igual a 'C'\n",
    "compras = modelo_mesa[modelo_mesa['C\\V'] == 'C']\n",
    "\n",
    "# Somar a quantidade para todas as compras\n",
    "quantidade_compras = compras['Qtd'].sum()\n",
    "\n",
    "# Filtrar apenas as linhas em que 'C\\V' é igual a 'V'\n",
    "vendas = modelo_mesa[modelo_mesa['C\\V'] == 'V']\n",
    "\n",
    "# Somar a quantidade para todas as compras\n",
    "quantidade_vendas = vendas['Qtd'].sum()\n",
    "\n",
    "# Calcular o valor total de compra e venda\n",
    "total_compra = quantidade_compras * valor_por_unidade\n",
    "total_venda = quantidade_vendas * valor_por_unidade\n",
    "\n",
    "# Plotar o gráfico de barras\n",
    "valores = [total_compra, total_venda]\n",
    "categorias = ['Compra', 'Venda']\n",
    "\n",
    "plt.figure(figsize=(8, 6))\n",
    "cores = ['#87CEEB', '#D3D3D3']  # Azul claro e cinza claro\n",
    "bars = plt.bar(categorias, valores, color=cores)\n",
    "plt.xlabel('Tipo de Operação')\n",
    "plt.ylabel('Valor em Reais')\n",
    "plt.title('Valor Total de Compra e Venda')\n",
    "\n",
    "# Adicionar \"R$\" a cada número do eixo y\n",
    "for bar, valor in zip(bars, valores):\n",
    "    plt.text(bar.get_x() + bar.get_width()/2, bar.get_height(), 'R$ {:.2f}'.format(valor), \n",
    "             va='bottom', ha='center', color='black')\n",
    "\n",
    "plt.show()\n"
   ]
  },
  {
   "cell_type": "code",
   "execution_count": null,
   "id": "604ec5e6-d6b9-4215-b7f5-d09edb0d1f36",
   "metadata": {},
   "outputs": [],
   "source": [
    "# Exportando para Excel\n",
    "nome_do_arquivo = 'modelo_mesa_desafio_resolvido.xlsx'\n",
    "df.to_excel(nome_do_arquivo, index=False)\n",
    "\n",
    "#Foi necessário adicionar a formatação manualmente"
   ]
  },
  {
   "cell_type": "markdown",
   "id": "afa74232-aa5f-4a12-b728-9d7e7379f7a4",
   "metadata": {},
   "source": [
    "### Com isso, completamos a primeira etapa do desafio, que era referente ao arquivo modelo_mesa.\n",
    "\n",
    "### Contudo, precisamos atualizar o modelo_twap.\n"
   ]
  },
  {
   "cell_type": "code",
   "execution_count": null,
   "id": "d893d308-b8e7-4dc3-8fec-d5c34adeb403",
   "metadata": {},
   "outputs": [],
   "source": [
    "modelo_twap = pd.read_excel('modelo_twap_-_lfts11_-_exemplo_-_desafio_vba.xlsx')"
   ]
  },
  {
   "cell_type": "code",
   "execution_count": null,
   "id": "29e5f43b-87b3-47fb-bbfd-ece8bad80bf3",
   "metadata": {},
   "outputs": [],
   "source": [
    "modelo_twap"
   ]
  },
  {
   "cell_type": "code",
   "execution_count": null,
   "id": "63cb9a51-57c5-4a4c-a428-71538c90ffdc",
   "metadata": {},
   "outputs": [],
   "source": [
    "# A nova quantidade de COMPRA é dada por quantidade_compras\n",
    "# A nova quantidade de VENDA é dada por quantidade_vendas\n",
    "\n",
    "# Alterando diretamente, teremos\n",
    "\n",
    "modelo_twap['QUANTIDADE'] = [quantidade_compras, quantidade_vendas]\n",
    "\n",
    "# Visualizando modelo_twap atualizado\n",
    "\n",
    "modelo_twap"
   ]
  },
  {
   "cell_type": "code",
   "execution_count": null,
   "id": "a3ceaae2-0dc2-4f3b-bf0c-bbe499afe28a",
   "metadata": {},
   "outputs": [],
   "source": [
    "# Exportando para o Excel\n",
    "\n",
    "nome_do_arquivo = 'modelo_twap_desafio_resolvido.xlsx'\n",
    "modelo_twap.to_excel(nome_do_arquivo, index=False)"
   ]
  }
 ],
 "metadata": {
  "kernelspec": {
   "display_name": "Python 3 (ipykernel)",
   "language": "python",
   "name": "python3"
  },
  "language_info": {
   "codemirror_mode": {
    "name": "ipython",
    "version": 3
   },
   "file_extension": ".py",
   "mimetype": "text/x-python",
   "name": "python",
   "nbconvert_exporter": "python",
   "pygments_lexer": "ipython3",
   "version": "3.11.7"
  }
 },
 "nbformat": 4,
 "nbformat_minor": 5
}
